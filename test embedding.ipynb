{
 "cells": [
  {
   "cell_type": "code",
   "execution_count": 1,
   "metadata": {},
   "outputs": [],
   "source": [
    "import requests\n",
    "from pathlib import Path\n",
    "import base64\n",
    "import io"
   ]
  },
  {
   "cell_type": "code",
   "execution_count": 2,
   "metadata": {},
   "outputs": [],
   "source": [
    "url = \"http://localhost:8010/runsync/\"\n",
    "headers = {\"accept\": \"application/json\", \"authorization\": \"${YOUR_API_KEY}\", \"content-type\": \"application/json\"}"
   ]
  },
  {
   "cell_type": "code",
   "execution_count": 3,
   "metadata": {},
   "outputs": [],
   "source": [
    "def send_infinity(payload: str) -> dict:\n",
    "    _payload = {\n",
    "        \"input\": {\n",
    "            # \"apply_chat_template\": True,\n",
    "            \"openai_route\": \"/v1/embeddings\",\n",
    "            \"openai_input\": {\n",
    "                \"input\": payload,\n",
    "                \"model\": \"BAAI/bge-m3\",\n",
    "                # \"max_completion_tokens\": 50,\n",
    "            },\n",
    "        }\n",
    "    }\n",
    "    response = requests.post(url=url, headers=headers, json=_payload, timeout=1000)\n",
    "    return response.json()"
   ]
  },
  {
   "cell_type": "code",
   "execution_count": 4,
   "metadata": {},
   "outputs": [
    {
     "data": {
      "text/plain": [
       "{'id': 'test-c9e6a748-f0b8-4427-ba35-ed17f96a9077',\n",
       " 'status': 'COMPLETED',\n",
       " 'output': {'data': [{'id': 'BAAI/bge-m3',\n",
       "    'stats': {},\n",
       "    'object': 'model',\n",
       "    'owned_by': 'infinity',\n",
       "    'created': 1747297173,\n",
       "    'backend': ''}],\n",
       "  'object': 'list'}}"
      ]
     },
     "execution_count": 4,
     "metadata": {},
     "output_type": "execute_result"
    }
   ],
   "source": [
    "requests.post(\n",
    "    url=url,\n",
    "    headers=headers,\n",
    "    json={\"input\": {\"openai_route\": \"/v1/models\"}},\n",
    ").json()"
   ]
  },
  {
   "cell_type": "code",
   "execution_count": 5,
   "metadata": {},
   "outputs": [
    {
     "data": {
      "text/plain": [
       "1024"
      ]
     },
     "execution_count": 5,
     "metadata": {},
     "output_type": "execute_result"
    }
   ],
   "source": [
    "len(send_infinity(payload=\"donne-moi le vecteur de plongement de ce texte\")[\"output\"][0][\"data\"][0][\"embedding\"])"
   ]
  }
 ],
 "metadata": {
  "kernelspec": {
   "display_name": "Python 3",
   "language": "python",
   "name": "python3"
  },
  "language_info": {
   "codemirror_mode": {
    "name": "ipython",
    "version": 3
   },
   "file_extension": ".py",
   "mimetype": "text/x-python",
   "name": "python",
   "nbconvert_exporter": "python",
   "pygments_lexer": "ipython3",
   "version": "3.11.10"
  }
 },
 "nbformat": 4,
 "nbformat_minor": 2
}
